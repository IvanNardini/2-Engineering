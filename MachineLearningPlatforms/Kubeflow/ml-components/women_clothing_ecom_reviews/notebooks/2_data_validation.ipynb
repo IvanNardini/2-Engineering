{
 "cells": [
  {
   "cell_type": "markdown",
   "id": "naked-hammer",
   "metadata": {},
   "source": [
    "# Text Analysis for Women's E-Commerce Clothing Reviews"
   ]
  },
  {
   "cell_type": "markdown",
   "id": "geographic-prerequisite",
   "metadata": {},
   "source": [
    "## Libraries and Settings"
   ]
  },
  {
   "cell_type": "code",
   "execution_count": 15,
   "id": "immune-remark",
   "metadata": {},
   "outputs": [],
   "source": [
    "import os\n",
    "import numpy as np\n",
    "import pandas as pd\n",
    "import pandera as pdv\n",
    "from pandera import Column, Check, DataFrameSchema\n",
    "\n",
    "%config Completer.use_jedi = False"
   ]
  },
  {
   "cell_type": "markdown",
   "id": "automatic-greene",
   "metadata": {},
   "source": [
    "## Variables"
   ]
  },
  {
   "cell_type": "code",
   "execution_count": 25,
   "id": "derived-penny",
   "metadata": {},
   "outputs": [],
   "source": [
    "RAW_DIR = os.path.join(os.pardir, 'data', 'raw')\n",
    "RANDOM_STATE = 8"
   ]
  },
  {
   "cell_type": "markdown",
   "id": "serious-death",
   "metadata": {},
   "source": [
    "## Helpers"
   ]
  },
  {
   "cell_type": "code",
   "execution_count": 3,
   "id": "restricted-dover",
   "metadata": {},
   "outputs": [],
   "source": [
    "def load_data(path, filename):\n",
    "    data_path = os.path.join(path, filename)\n",
    "    df = pd.read_csv(data_path)\n",
    "    return df"
   ]
  },
  {
   "cell_type": "markdown",
   "id": "given-scale",
   "metadata": {},
   "source": [
    "## Load data"
   ]
  },
  {
   "cell_type": "code",
   "execution_count": 4,
   "id": "generous-lexington",
   "metadata": {},
   "outputs": [],
   "source": [
    "raw = load_data(RAW_DIR, 'Womens Clothing E-Commerce Reviews.csv')"
   ]
  },
  {
   "cell_type": "code",
   "execution_count": 5,
   "id": "southeast-forward",
   "metadata": {},
   "outputs": [
    {
     "data": {
      "text/html": [
       "<div>\n",
       "<style scoped>\n",
       "    .dataframe tbody tr th:only-of-type {\n",
       "        vertical-align: middle;\n",
       "    }\n",
       "\n",
       "    .dataframe tbody tr th {\n",
       "        vertical-align: top;\n",
       "    }\n",
       "\n",
       "    .dataframe thead th {\n",
       "        text-align: right;\n",
       "    }\n",
       "</style>\n",
       "<table border=\"1\" class=\"dataframe\">\n",
       "  <thead>\n",
       "    <tr style=\"text-align: right;\">\n",
       "      <th></th>\n",
       "      <th>Unnamed: 0</th>\n",
       "      <th>Clothing ID</th>\n",
       "      <th>Age</th>\n",
       "      <th>Title</th>\n",
       "      <th>Review Text</th>\n",
       "      <th>Rating</th>\n",
       "      <th>Recommended IND</th>\n",
       "      <th>Positive Feedback Count</th>\n",
       "      <th>Division Name</th>\n",
       "      <th>Department Name</th>\n",
       "      <th>Class Name</th>\n",
       "    </tr>\n",
       "  </thead>\n",
       "  <tbody>\n",
       "    <tr>\n",
       "      <th>0</th>\n",
       "      <td>0</td>\n",
       "      <td>767</td>\n",
       "      <td>33</td>\n",
       "      <td>NaN</td>\n",
       "      <td>Absolutely wonderful - silky and sexy and comf...</td>\n",
       "      <td>4</td>\n",
       "      <td>1</td>\n",
       "      <td>0</td>\n",
       "      <td>Initmates</td>\n",
       "      <td>Intimate</td>\n",
       "      <td>Intimates</td>\n",
       "    </tr>\n",
       "    <tr>\n",
       "      <th>1</th>\n",
       "      <td>1</td>\n",
       "      <td>1080</td>\n",
       "      <td>34</td>\n",
       "      <td>NaN</td>\n",
       "      <td>Love this dress!  it's sooo pretty.  i happene...</td>\n",
       "      <td>5</td>\n",
       "      <td>1</td>\n",
       "      <td>4</td>\n",
       "      <td>General</td>\n",
       "      <td>Dresses</td>\n",
       "      <td>Dresses</td>\n",
       "    </tr>\n",
       "    <tr>\n",
       "      <th>2</th>\n",
       "      <td>2</td>\n",
       "      <td>1077</td>\n",
       "      <td>60</td>\n",
       "      <td>Some major design flaws</td>\n",
       "      <td>I had such high hopes for this dress and reall...</td>\n",
       "      <td>3</td>\n",
       "      <td>0</td>\n",
       "      <td>0</td>\n",
       "      <td>General</td>\n",
       "      <td>Dresses</td>\n",
       "      <td>Dresses</td>\n",
       "    </tr>\n",
       "    <tr>\n",
       "      <th>3</th>\n",
       "      <td>3</td>\n",
       "      <td>1049</td>\n",
       "      <td>50</td>\n",
       "      <td>My favorite buy!</td>\n",
       "      <td>I love, love, love this jumpsuit. it's fun, fl...</td>\n",
       "      <td>5</td>\n",
       "      <td>1</td>\n",
       "      <td>0</td>\n",
       "      <td>General Petite</td>\n",
       "      <td>Bottoms</td>\n",
       "      <td>Pants</td>\n",
       "    </tr>\n",
       "    <tr>\n",
       "      <th>4</th>\n",
       "      <td>4</td>\n",
       "      <td>847</td>\n",
       "      <td>47</td>\n",
       "      <td>Flattering shirt</td>\n",
       "      <td>This shirt is very flattering to all due to th...</td>\n",
       "      <td>5</td>\n",
       "      <td>1</td>\n",
       "      <td>6</td>\n",
       "      <td>General</td>\n",
       "      <td>Tops</td>\n",
       "      <td>Blouses</td>\n",
       "    </tr>\n",
       "  </tbody>\n",
       "</table>\n",
       "</div>"
      ],
      "text/plain": [
       "   Unnamed: 0  Clothing ID  Age                    Title  \\\n",
       "0           0          767   33                      NaN   \n",
       "1           1         1080   34                      NaN   \n",
       "2           2         1077   60  Some major design flaws   \n",
       "3           3         1049   50         My favorite buy!   \n",
       "4           4          847   47         Flattering shirt   \n",
       "\n",
       "                                         Review Text  Rating  Recommended IND  \\\n",
       "0  Absolutely wonderful - silky and sexy and comf...       4                1   \n",
       "1  Love this dress!  it's sooo pretty.  i happene...       5                1   \n",
       "2  I had such high hopes for this dress and reall...       3                0   \n",
       "3  I love, love, love this jumpsuit. it's fun, fl...       5                1   \n",
       "4  This shirt is very flattering to all due to th...       5                1   \n",
       "\n",
       "   Positive Feedback Count   Division Name Department Name Class Name  \n",
       "0                        0       Initmates        Intimate  Intimates  \n",
       "1                        4         General         Dresses    Dresses  \n",
       "2                        0         General         Dresses    Dresses  \n",
       "3                        0  General Petite         Bottoms      Pants  \n",
       "4                        6         General            Tops    Blouses  "
      ]
     },
     "execution_count": 5,
     "metadata": {},
     "output_type": "execute_result"
    }
   ],
   "source": [
    "raw.head()"
   ]
  },
  {
   "cell_type": "code",
   "execution_count": 6,
   "id": "manufactured-average",
   "metadata": {},
   "outputs": [
    {
     "name": "stdout",
     "output_type": "stream",
     "text": [
      "<class 'pandas.core.frame.DataFrame'>\n",
      "RangeIndex: 23486 entries, 0 to 23485\n",
      "Data columns (total 11 columns):\n",
      " #   Column                   Non-Null Count  Dtype \n",
      "---  ------                   --------------  ----- \n",
      " 0   Unnamed: 0               23486 non-null  int64 \n",
      " 1   Clothing ID              23486 non-null  int64 \n",
      " 2   Age                      23486 non-null  int64 \n",
      " 3   Title                    19676 non-null  object\n",
      " 4   Review Text              22641 non-null  object\n",
      " 5   Rating                   23486 non-null  int64 \n",
      " 6   Recommended IND          23486 non-null  int64 \n",
      " 7   Positive Feedback Count  23486 non-null  int64 \n",
      " 8   Division Name            23472 non-null  object\n",
      " 9   Department Name          23472 non-null  object\n",
      " 10  Class Name               23472 non-null  object\n",
      "dtypes: int64(6), object(5)\n",
      "memory usage: 2.0+ MB\n"
     ]
    }
   ],
   "source": [
    "raw.info()"
   ]
  },
  {
   "cell_type": "markdown",
   "id": "distinguished-cemetery",
   "metadata": {},
   "source": [
    "## Data Validation\n",
    "\n",
    "Here a very simple example of data validation using [Pandera](https://pandera.readthedocs.io/en/stable/) library"
   ]
  },
  {
   "cell_type": "markdown",
   "id": "harmful-notification",
   "metadata": {},
   "source": [
    "### Define Schema"
   ]
  },
  {
   "cell_type": "code",
   "execution_count": 51,
   "id": "better-induction",
   "metadata": {},
   "outputs": [],
   "source": [
    "COLS = raw.columns.difference(['Unnamed: 0'])\n",
    "\n",
    "# Define checks\n",
    "check_ge_min = Check(lambda s: s >= 0)\n",
    "check_le_max = Check(lambda s: s <= max(s))\n",
    "\n",
    "schema = DataFrameSchema(\n",
    "    \n",
    "    {k : Column(pdv.Int, checks = [check_ge_min, check_le_max]) if pd.api.types.is_int64_dtype(np.array(raw[k])) \n",
    "     else Column(pdv.String, nullable=True) \n",
    "     for k in COLS}\n",
    ")"
   ]
  },
  {
   "cell_type": "code",
   "execution_count": 52,
   "id": "automotive-retreat",
   "metadata": {},
   "outputs": [
    {
     "data": {
      "text/plain": [
       "<Schema DataFrameSchema(columns={'Age': <Schema Column(name=Age, type=int)>, 'Class Name': <Schema Column(name=Class Name, type=str)>, 'Clothing ID': <Schema Column(name=Clothing ID, type=int)>, 'Department Name': <Schema Column(name=Department Name, type=str)>, 'Division Name': <Schema Column(name=Division Name, type=str)>, 'Positive Feedback Count': <Schema Column(name=Positive Feedback Count, type=int)>, 'Rating': <Schema Column(name=Rating, type=int)>, 'Recommended IND': <Schema Column(name=Recommended IND, type=int)>, 'Review Text': <Schema Column(name=Review Text, type=str)>, 'Title': <Schema Column(name=Title, type=str)>}, checks=[], index=None, coerce=False, pandas_dtype=None,strict=False,name=None,ordered=False)>"
      ]
     },
     "execution_count": 52,
     "metadata": {},
     "output_type": "execute_result"
    }
   ],
   "source": [
    "schema"
   ]
  },
  {
   "cell_type": "markdown",
   "id": "composed-dialogue",
   "metadata": {},
   "source": [
    "### Validate data"
   ]
  },
  {
   "cell_type": "code",
   "execution_count": 53,
   "id": "hollywood-apple",
   "metadata": {},
   "outputs": [],
   "source": [
    "val_sample = raw.drop('Unnamed: 0', axis = 1).sample(n=100, random_state = RANDOM_STATE)"
   ]
  },
  {
   "cell_type": "code",
   "execution_count": 54,
   "id": "alike-judgment",
   "metadata": {},
   "outputs": [],
   "source": [
    "val_df = schema.validate(validate_sample)"
   ]
  },
  {
   "cell_type": "code",
   "execution_count": 56,
   "id": "distributed-springer",
   "metadata": {},
   "outputs": [
    {
     "name": "stdout",
     "output_type": "stream",
     "text": [
      "Data Validation successfully completed!\n"
     ]
    }
   ],
   "source": [
    "is_not_valid = val_df.empty\n",
    "if not is_not_valid:\n",
    "    print('Data Validation successfully completed!')"
   ]
  },
  {
   "cell_type": "markdown",
   "id": "exact-chancellor",
   "metadata": {},
   "source": [
    "# Comments"
   ]
  }
 ],
 "metadata": {
  "kernelspec": {
   "display_name": "Python 3",
   "language": "python",
   "name": "python3"
  },
  "language_info": {
   "codemirror_mode": {
    "name": "ipython",
    "version": 3
   },
   "file_extension": ".py",
   "mimetype": "text/x-python",
   "name": "python",
   "nbconvert_exporter": "python",
   "pygments_lexer": "ipython3",
   "version": "3.8.8"
  }
 },
 "nbformat": 4,
 "nbformat_minor": 5
}
